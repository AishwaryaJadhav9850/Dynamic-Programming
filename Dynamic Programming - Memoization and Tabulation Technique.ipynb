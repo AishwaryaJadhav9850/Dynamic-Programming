{
 "cells": [
  {
   "cell_type": "code",
   "execution_count": 1,
   "metadata": {},
   "outputs": [
    {
     "data": {
      "text/plain": [
       "832040"
      ]
     },
     "execution_count": 1,
     "metadata": {},
     "output_type": "execute_result"
    }
   ],
   "source": [
    "# Fibonacci series using Recursion\n",
    "def fib(n):\n",
    "    if n==0:\n",
    "        return 0\n",
    "    if n<=1:\n",
    "        return 1\n",
    "    else:\n",
    "        return fib(n-1)+fib(n-2)\n",
    "fib(30)"
   ]
  },
  {
   "cell_type": "code",
   "execution_count": 2,
   "metadata": {},
   "outputs": [
    {
     "data": {
      "text/plain": [
       "12586269025"
      ]
     },
     "execution_count": 2,
     "metadata": {},
     "output_type": "execute_result"
    }
   ],
   "source": [
    "# Fibonacci series with the dynamic programming concept of Memoization\n",
    "# time and space complexity is O(n)\n",
    "def fib(n,d={}):\n",
    "    if n in d:\n",
    "        return d[n]\n",
    "    if n==0:\n",
    "        return 0\n",
    "    if n<=1:\n",
    "        return 1\n",
    "    else:\n",
    "        d[n]= (fib(n-1)+fib(n-2))\n",
    "        return d[n]\n",
    "fib(50)"
   ]
  },
  {
   "cell_type": "code",
   "execution_count": 3,
   "metadata": {},
   "outputs": [
    {
     "data": {
      "text/plain": [
       "2333606220"
      ]
     },
     "execution_count": 3,
     "metadata": {},
     "output_type": "execute_result"
    }
   ],
   "source": [
    "# TravellersGrid Problem\n",
    "# The traveler can travel right or down only. no diagonally or up or left\n",
    "# time is and space is \n",
    "def travelersGrid(m,n,d={}):\n",
    "    key=str(m) +\",\"+ str(n)\n",
    "    if key in d:\n",
    "        return d[key]\n",
    "    if m==0 or n==0:\n",
    "        return 0\n",
    "    if m==n==1:\n",
    "        return 1\n",
    "    d[key] = travelersGrid(m-1,n) + travelersGrid(m,n-1)\n",
    "    return d[key]\n",
    "\n",
    "travelersGrid(18,18)"
   ]
  },
  {
   "cell_type": "code",
   "execution_count": 4,
   "metadata": {},
   "outputs": [
    {
     "data": {
      "text/plain": [
       "False"
      ]
     },
     "execution_count": 4,
     "metadata": {},
     "output_type": "execute_result"
    }
   ],
   "source": [
    "# CanSum Problem -> Can you do it?\n",
    "# if by using addition of the numbers in the array (may be repetative) we can form the target number\n",
    "# n is the target sum and m is the array length of nums\n",
    "# Time complexity O(n*m) and Space complexity of O(n) by using Memoization\n",
    "# Time complexity O(m^n) and Space complexity of O(n) by using regular recursive function\n",
    "\n",
    "def canSum(n,nums,d={}):\n",
    "    if n in d:\n",
    "        return d[n]\n",
    "    \n",
    "    if n == 0:\n",
    "        return True\n",
    "    \n",
    "    if n<0:\n",
    "        return False\n",
    "    \n",
    "    for i in nums:\n",
    "        k=n-i\n",
    "        if canSum(k,nums,d) is True:\n",
    "            d[n] = True\n",
    "            return True\n",
    "    d[n] = False\n",
    "    return False\n",
    "\n",
    "canSum(300,[7,14])"
   ]
  },
  {
   "cell_type": "code",
   "execution_count": 6,
   "metadata": {},
   "outputs": [
    {
     "name": "stdout",
     "output_type": "stream",
     "text": [
      "True\n",
      "False\n",
      "True\n",
      "False\n"
     ]
    }
   ],
   "source": [
    "# CanConstruct: returns true if combination is possible\n",
    "\n",
    "def canConstruct(string,array,dictionary={}):\n",
    "    \n",
    "    if string in dictionary:\n",
    "        return dictionary[string]\n",
    "    \n",
    "    if string == \"\":\n",
    "        return True\n",
    "    \n",
    "    for i in array:\n",
    "        if string.startswith(i):\n",
    "            remainingPart=string[len(i):]\n",
    "            ans=canConstruct(remainingPart,array)\n",
    "            if ans == True:\n",
    "                dictionary[string]=True\n",
    "                return True\n",
    "    \n",
    "    dictionary[string]=False\n",
    "    return False\n",
    "\n",
    "print(canConstruct(\"abcdef\",[\"ab\",\"abc\",\"cd\",\"def\",\"abcd\"]))\n",
    "print(canConstruct(\"skateboard\",[\"bo\",\"rd\",\"ate\",\"t\",\"ska\",\"sk\",\"boar\"]))\n",
    "print(canConstruct(\"enterapotentpot\",[\"a\",\"p\",\"ent\",\"enter\",\"ot\",\"o\",\"t\"]))\n",
    "print(canConstruct(\"eeeeeeeeeeeeeeeeeeeeeeeeeeeef\",[\"e\",\"ee\",\"eee\",\"eeee\",\"eeeee\",\"eeeeee\"]))"
   ]
  },
  {
   "cell_type": "code",
   "execution_count": 7,
   "metadata": {},
   "outputs": [
    {
     "name": "stdout",
     "output_type": "stream",
     "text": [
      "2\n",
      "1\n",
      "0\n",
      "4\n",
      "111196417\n"
     ]
    }
   ],
   "source": [
    "# CountConstruct : give the number of combinations possible\n",
    "\n",
    "def CountConstruct(string,array,dictionary={}):\n",
    "    \n",
    "    if string in dictionary:\n",
    "        return dictionary[string]\n",
    "    \n",
    "    if string == \"\":\n",
    "        return 1\n",
    "    \n",
    "    counter=0\n",
    "    \n",
    "    for i in array:\n",
    "        if string.startswith(i):\n",
    "            num=CountConstruct(string[len(i):],array,dictionary)\n",
    "            counter+=num\n",
    "            dictionary[string]=counter        \n",
    "    return counter\n",
    "\n",
    "print(CountConstruct(\"purple\",[\"purp\",\"p\",\"ur\",\"le\",\"purpl\"]))    \n",
    "print(CountConstruct(\"abcdef\",[\"ab\",\"abc\",\"cd\",\"def\",\"abcd\"]))\n",
    "print(CountConstruct(\"skateboard\",[\"bo\",\"rd\",\"ate\",\"t\",\"ska\",\"sk\",\"boar\"]))\n",
    "print(CountConstruct(\"enterapotentpot\",[\"a\",\"p\",\"ent\",\"enter\",\"ot\",\"o\",\"t\"]))\n",
    "print(CountConstruct(\"eeeeeeeeeeeeeeeeeeeeeeeeeeee\",[\"e\",\"ee\",\"eee\",\"eeee\",\"eeeee\",\"eeeeee\"]))"
   ]
  },
  {
   "cell_type": "code",
   "execution_count": 10,
   "metadata": {},
   "outputs": [
    {
     "name": "stdout",
     "output_type": "stream",
     "text": [
      "[]\n",
      "[['enter', 'a', 'p', 'ot', 'ent', 'p', 'ot'], ['enter', 'a', 'p', 'ot', 'ent', 'p', 'o', 't'], ['enter', 'a', 'p', 'o', 't', 'ent', 'p', 'ot'], ['enter', 'a', 'p', 'o', 't', 'ent', 'p', 'o', 't']]\n",
      "[]\n"
     ]
    }
   ],
   "source": [
    "# allConstruct\n",
    "def allConstruct(string,array):\n",
    "  \n",
    "    if string == \"\":\n",
    "        return [[]]\n",
    "    \n",
    "    result=[]\n",
    "    for i in array:\n",
    "        if string.startswith(i):\n",
    "            substring = allConstruct(string[len(i):],array)\n",
    "            for k in substring:\n",
    "                k.insert(0,i)\n",
    "                result.append(k)\n",
    "    return result                \n",
    "                \n",
    "#print(allConstruct(\"purple\",[\"purp\",\"p\",\"ur\",\"le\",\"purpl\"]))    \n",
    "#print(allConstruct(\"abcdef\",[\"ab\",\"abc\",\"cd\",\"def\",\"abcd\"]))\n",
    "print(allConstruct(\"skateboard\",[\"bo\",\"rd\",\"ate\",\"t\",\"ska\",\"sk\",\"boar\"]))\n",
    "print(allConstruct(\"enterapotentpot\",[\"a\",\"p\",\"ent\",\"enter\",\"ot\",\"o\",\"t\"]))                \n",
    "print(allConstruct(\"eeeeeeeeeeeeeeef\",[\"e\",\"ee\",\"eee\",\"eeee\",\"eeeee\",\"eeeeee\"]))        "
   ]
  },
  {
   "cell_type": "code",
   "execution_count": 11,
   "metadata": {},
   "outputs": [
    {
     "name": "stdout",
     "output_type": "stream",
     "text": [
      "[]\n",
      "[['enter', 'enter', 'a', 'a', 'p', 'p', 'o', 't', 'ot', 'ent', 'p', 'ot'], ['enter', 'enter', 'a', 'a', 'p', 'p', 'o', 't', 'ot', 'ent', 'p', 'o', 't'], ['enter', 'enter', 'a', 'a', 'p', 'p', 'o', 't', 'ot', 'ent', 'p', 'ot'], ['enter', 'enter', 'a', 'a', 'p', 'p', 'o', 't', 'ot', 'ent', 'p', 'o', 't']]\n",
      "[]\n"
     ]
    }
   ],
   "source": [
    "# allConstruct using memoization\n",
    "def allConstructMemoization(string,array,dictionary={}):\n",
    "  \n",
    "    if string in dictionary:\n",
    "        return dictionary[string]\n",
    "    \n",
    "    if string == \"\":\n",
    "        return [[]]\n",
    "    \n",
    "    result=[]\n",
    "    for i in array:\n",
    "        if string.startswith(i):\n",
    "            substring = allConstructMemoization(string[len(i):],array)\n",
    "            for k in substring:\n",
    "                k.insert(0,i)\n",
    "                result.append(k)\n",
    "                dictionary[string] = result\n",
    "                \n",
    "    return result                \n",
    "                \n",
    "#print(allConstructMemoization(\"purple\",[\"purp\",\"p\",\"ur\",\"le\",\"purpl\"]))    \n",
    "#print(allConstructMemoization(\"abcdef\",[\"ab\",\"abc\",\"cd\",\"def\",\"abcd\"]))\n",
    "print(allConstructMemoization(\"skateboard\",[\"bo\",\"rd\",\"ate\",\"t\",\"ska\",\"sk\",\"boar\"]))\n",
    "print(allConstructMemoization(\"enterapotentpot\",[\"a\",\"p\",\"ent\",\"enter\",\"ot\",\"o\",\"t\"]))                \n",
    "print(allConstructMemoization(\"eeeeeeeeeeeeeeeeeeeeeef\",[\"e\",\"ee\",\"eee\",\"eeee\",\"eeeee\",\"eeeeee\"]))    "
   ]
  },
  {
   "cell_type": "code",
   "execution_count": 12,
   "metadata": {},
   "outputs": [
    {
     "data": {
      "text/plain": [
       "218922995834555169026"
      ]
     },
     "execution_count": 12,
     "metadata": {},
     "output_type": "execute_result"
    }
   ],
   "source": [
    "# fib using tabulation\n",
    "def fib_tabulation(num):\n",
    "    if num==0:\n",
    "        return 0\n",
    "    if num==1:\n",
    "        return 1\n",
    "    \n",
    "    array=[0 for i in range(num+1)]\n",
    "    array[1]=1\n",
    "    \n",
    "    for i in range(num-1):\n",
    "        array[i+1]+=array[i]\n",
    "        array[i+2]+=array[i]\n",
    "        \n",
    "    array[i+2]+=array[i+1]\n",
    "    \n",
    "    return array[num]\n",
    "\n",
    "fib_tabulation(99)"
   ]
  },
  {
   "cell_type": "code",
   "execution_count": 13,
   "metadata": {},
   "outputs": [
    {
     "data": {
      "text/plain": [
       "2333606220"
      ]
     },
     "execution_count": 13,
     "metadata": {},
     "output_type": "execute_result"
    }
   ],
   "source": [
    "# GridTraveller using tabulation \n",
    "def gridTraveller_tabulation(m,n):\n",
    "    if m == n == 0:\n",
    "        return 0\n",
    "    \n",
    "    array = [[0 for i in range(n+1)] for j in range(m+1)]\n",
    "    array[1][1] = 1\n",
    "    \n",
    "    for i in range(m+1):\n",
    "        \n",
    "        for j in range(n+1):\n",
    "            \n",
    "            if (i+1) <= m:\n",
    "                array[i+1][j]+=array[i][j]\n",
    "                \n",
    "            if (j+1) <= n:\n",
    "                array[i][j+1]+=array[i][j]\n",
    "\n",
    "    return array[m][n]\n",
    "                \n",
    "    \n",
    "gridTraveller_tabulation(18,18)\n",
    "    \n"
   ]
  },
  {
   "cell_type": "code",
   "execution_count": 14,
   "metadata": {},
   "outputs": [
    {
     "name": "stdout",
     "output_type": "stream",
     "text": [
      "True\n",
      "True\n",
      "False\n",
      "True\n",
      "False\n"
     ]
    }
   ],
   "source": [
    "# canSum with tabulation technique\n",
    "def canSum_tabulation(target,array):\n",
    "    \n",
    "    result = [0 for i in range(target+1)]\n",
    "    result[0] = True\n",
    "    \n",
    "    for i in range(target+1):\n",
    "        \n",
    "        if result[i] == True:\n",
    "            \n",
    "            for j in array:\n",
    "                \n",
    "                if (i+j) <= target:\n",
    "                    result[i+j] = True\n",
    "    \n",
    "    if result[target] is True:\n",
    "        return True\n",
    "    else:\n",
    "        return False \n",
    "            \n",
    "print(canSum_tabulation(7,[2,3]))   \n",
    "print(canSum_tabulation(7,[5,3,4,7])) \n",
    "print(canSum_tabulation(7,[2,4]))\n",
    "print(canSum_tabulation(7,[2,3,5])) \n",
    "print(canSum_tabulation(300,[7,14])) "
   ]
  },
  {
   "cell_type": "code",
   "execution_count": 15,
   "metadata": {},
   "outputs": [
    {
     "name": "stdout",
     "output_type": "stream",
     "text": [
      "[3, 2, 2]\n",
      "[4, 3]\n",
      "None\n",
      "[2, 2, 2, 2]\n",
      "None\n"
     ]
    }
   ],
   "source": [
    "# howSum with tabulation technique\n",
    "\n",
    "def howSum_Tabulation(target,array):\n",
    "    \n",
    "    result=[None for i in range(target+1)]\n",
    "    result[0]=[]\n",
    "    for i in range(target+1):\n",
    "        if result[i] != None:\n",
    "            for j in array:\n",
    "                if (i+j) <= target:\n",
    "                    temp=result[i].copy()\n",
    "                    if len(temp) == 0:\n",
    "                        temp.insert(0,j)\n",
    "                    else:\n",
    "                        temp.append(j)  \n",
    "                    result[(i+j)]=temp\n",
    "\n",
    "    \n",
    "    return result[target]\n",
    "\n",
    "print(howSum_Tabulation(7,[2,3]))\n",
    "print(howSum_Tabulation(7,[5,3,4,7])) \n",
    "print(howSum_Tabulation(7,[2,4]))\n",
    "print(howSum_Tabulation(8,[2,3,5])) \n",
    "print(howSum_Tabulation(300,[7,14])) "
   ]
  },
  {
   "cell_type": "code",
   "execution_count": 16,
   "metadata": {},
   "outputs": [
    {
     "name": "stdout",
     "output_type": "stream",
     "text": [
      "[5, 5]\n",
      "[2, 2, 3]\n",
      "[7]\n",
      "None\n",
      "[3, 5]\n",
      "[6, 14, 14, 14, 14, 14, 14, 14, 14, 14, 14, 14, 14, 14, 14, 14, 14, 14, 14, 14, 14, 14]\n"
     ]
    }
   ],
   "source": [
    "# bestSum with tabulation technique return the smallest result possible\n",
    "\n",
    "def bestSum_tabulation(target,array):\n",
    "    \n",
    "    result=[None for i in range(target+1)]\n",
    "    result[0]=[]\n",
    "    \n",
    "    for i in range(target+1):\n",
    "        if result[i] is not None:\n",
    "            for j in array:\n",
    "                if (i+j) <= target:\n",
    "                    \n",
    "                    temp=result[i].copy()\n",
    "                \n",
    "                    if len(temp) == 0:\n",
    "                        temp.insert(0,j)\n",
    "                    else:\n",
    "                        temp.append(j) \n",
    "                        \n",
    "                    if (result[(i+j)] is None) or (len(temp) < len(result[(i+j)])):\n",
    "                        result[(i+j)] = temp\n",
    "                        \n",
    "    return result[target]\n",
    "\n",
    "print(bestSum_tabulation(10,[2,3,5]))\n",
    "print(bestSum_tabulation(7,[2,3]))\n",
    "print(bestSum_tabulation(7,[5,3,4,7])) \n",
    "print(bestSum_tabulation(7,[2,4]))\n",
    "print(bestSum_tabulation(8,[2,3,5])) \n",
    "print(bestSum_tabulation(300,[1,2,3,4,5,6,7,14,10]))"
   ]
  },
  {
   "cell_type": "code",
   "execution_count": 17,
   "metadata": {},
   "outputs": [
    {
     "name": "stdout",
     "output_type": "stream",
     "text": [
      "True\n",
      "False\n",
      "True\n",
      "True\n"
     ]
    }
   ],
   "source": [
    "# CanConstruct using Tabulation technique\n",
    "\n",
    "def canConstruct_Tabulation(target,array):\n",
    "    \n",
    "    result=[False for i in range(len(target)+1)]\n",
    "    result[0]=True\n",
    "    temp=\"\"+target\n",
    "    for i in range(len(target)+1):\n",
    "        if result[i] is True:\n",
    "            for j in array:\n",
    "                if target[i:].startswith(j):\n",
    "                    result[i+len(j)]=True\n",
    "    return result[len(target)]\n",
    "\n",
    "print(canConstruct_Tabulation(\"abcdef\",[\"ab\",\"abc\",\"cd\",\"def\",\"abcd\"]))\n",
    "print(canConstruct_Tabulation(\"skateboard\",[\"bo\",\"rd\",\"ate\",\"t\",\"ska\",\"sk\",\"boar\"]))\n",
    "print(canConstruct_Tabulation(\"enterapotentpot\",[\"a\",\"p\",\"ent\",\"enter\",\"ot\",\"o\",\"t\"]))\n",
    "print(canConstruct_Tabulation(\"eeeeeeeeeeeeeeeeeeeeeeeeeeeef\",[\"e\",\"ee\",\"eee\",\"eeee\",\"eeeee\",\"eeeeeef\"]))"
   ]
  },
  {
   "cell_type": "code",
   "execution_count": 18,
   "metadata": {},
   "outputs": [
    {
     "name": "stdout",
     "output_type": "stream",
     "text": [
      "1\n",
      "2\n",
      "0\n",
      "4\n",
      "1546352\n"
     ]
    }
   ],
   "source": [
    "# CountConstruct using Tabulation technique\n",
    "\n",
    "def countConstruct_Tabulation(target,array):\n",
    "    \n",
    "    result=[0 for i in range(len(target)+1)]\n",
    "    result[0]=1\n",
    "    for i in range(len(target)+1):\n",
    "        if result[i] !=0 :\n",
    "            for j in array:\n",
    "                if target[i:].startswith(j):\n",
    "                    result[(i+len(j))]+=result[i]    \n",
    "    return result[len(target)]\n",
    "\n",
    "print(countConstruct_Tabulation(\"abcdef\",[\"ab\",\"abc\",\"cd\",\"def\",\"abcd\"]))\n",
    "print(countConstruct_Tabulation(\"purple\",[\"purp\",\"p\",\"ur\",\"le\",\"purpl\"]))    \n",
    "print(countConstruct_Tabulation(\"skateboard\",[\"bo\",\"rd\",\"ate\",\"t\",\"ska\",\"sk\",\"boar\"]))\n",
    "print(countConstruct_Tabulation(\"enterapotentpot\",[\"a\",\"p\",\"ent\",\"enter\",\"ot\",\"o\",\"t\"]))\n",
    "print(countConstruct_Tabulation(\"eeeeeeeeeeeeeeeeeeeeeeeeeeeef\",[\"e\",\"ee\",\"eee\",\"eeee\",\"eeeee\",\"eeeeeef\"]))"
   ]
  },
  {
   "cell_type": "code",
   "execution_count": null,
   "metadata": {},
   "outputs": [],
   "source": []
  }
 ],
 "metadata": {
  "kernelspec": {
   "display_name": "Python 3",
   "language": "python",
   "name": "python3"
  },
  "language_info": {
   "codemirror_mode": {
    "name": "ipython",
    "version": 3
   },
   "file_extension": ".py",
   "mimetype": "text/x-python",
   "name": "python",
   "nbconvert_exporter": "python",
   "pygments_lexer": "ipython3",
   "version": "3.8.3"
  }
 },
 "nbformat": 4,
 "nbformat_minor": 4
}
